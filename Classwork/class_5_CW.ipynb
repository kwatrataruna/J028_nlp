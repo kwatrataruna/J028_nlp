{
  "nbformat": 4,
  "nbformat_minor": 0,
  "metadata": {
    "colab": {
      "name": "Untitled4.ipynb",
      "provenance": []
    },
    "kernelspec": {
      "name": "python3",
      "display_name": "Python 3"
    }
  },
  "cells": [
    {
      "cell_type": "code",
      "metadata": {
        "id": "dV8kmtdVjtrj",
        "colab_type": "code",
        "colab": {}
      },
      "source": [
        "from gensim.models import Word2Vec\n",
        "from nltk.corpus import stopwords\n",
        "import pandas as pd\n",
        "import numpy as np\n",
        "import nltk\n",
        "from nltk import word_tokenize\n",
        "import string"
      ],
      "execution_count": 0,
      "outputs": []
    },
    {
      "cell_type": "code",
      "metadata": {
        "id": "WVrRXG3vj2DV",
        "colab_type": "code",
        "colab": {}
      },
      "source": [
        "twitter_data=pd.read_csv(\"https://raw.githubusercontent.com/zfz/twitter_corpus/master/full-corpus.csv\")"
      ],
      "execution_count": 0,
      "outputs": []
    },
    {
      "cell_type": "code",
      "metadata": {
        "id": "z71Tafm9j2wp",
        "colab_type": "code",
        "colab": {
          "base_uri": "https://localhost:8080/",
          "height": 53
        },
        "outputId": "4c483699-45c8-4547-f03e-1e7068ccdde5"
      },
      "source": [
        "nltk.download('stopwords')\n",
        "stop_words = set(stopwords.words('english'))"
      ],
      "execution_count": 18,
      "outputs": [
        {
          "output_type": "stream",
          "text": [
            "[nltk_data] Downloading package stopwords to /root/nltk_data...\n",
            "[nltk_data]   Package stopwords is already up-to-date!\n"
          ],
          "name": "stdout"
        }
      ]
    },
    {
      "cell_type": "code",
      "metadata": {
        "id": "tkF5zgzjj56m",
        "colab_type": "code",
        "colab": {
          "base_uri": "https://localhost:8080/",
          "height": 35
        },
        "outputId": "6cf34b0f-fdae-4424-9c25-9abd2063c441"
      },
      "source": [
        "twitter_data.columns"
      ],
      "execution_count": 19,
      "outputs": [
        {
          "output_type": "execute_result",
          "data": {
            "text/plain": [
              "Index(['Topic', 'Sentiment', 'TweetId', 'TweetDate', 'TweetText'], dtype='object')"
            ]
          },
          "metadata": {
            "tags": []
          },
          "execution_count": 19
        }
      ]
    },
    {
      "cell_type": "code",
      "metadata": {
        "id": "efo89YaIj9ac",
        "colab_type": "code",
        "colab": {}
      },
      "source": [
        "Sentence = data['TweetText'][1]"
      ],
      "execution_count": 0,
      "outputs": []
    },
    {
      "cell_type": "code",
      "metadata": {
        "id": "B4lBtr1gj_qy",
        "colab_type": "code",
        "colab": {}
      },
      "source": [
        "def punc_delete(data):\n",
        "  translator = str.maketrans('', '', string.punctuation)\n",
        "  data = data.translate(translator)\n",
        "  return data"
      ],
      "execution_count": 0,
      "outputs": []
    },
    {
      "cell_type": "code",
      "metadata": {
        "id": "A4_ieIV6kCKx",
        "colab_type": "code",
        "colab": {
          "base_uri": "https://localhost:8080/",
          "height": 35
        },
        "outputId": "8c8b20ac-998a-4b00-d8b0-fed3367c2d2a"
      },
      "source": [
        "punc_delete(Sentence)"
      ],
      "execution_count": 22,
      "outputs": [
        {
          "output_type": "execute_result",
          "data": {
            "text/plain": [
              "'Apple will be adding more carrier support to the iPhone 4S just announced'"
            ]
          },
          "metadata": {
            "tags": []
          },
          "execution_count": 22
        }
      ]
    },
    {
      "cell_type": "code",
      "metadata": {
        "id": "thUlfZAdkFgY",
        "colab_type": "code",
        "colab": {
          "base_uri": "https://localhost:8080/",
          "height": 35
        },
        "outputId": "ae2de1a6-1875-4446-838a-f3e162a0e1a0"
      },
      "source": [
        "Sentence"
      ],
      "execution_count": 8,
      "outputs": [
        {
          "output_type": "execute_result",
          "data": {
            "text/plain": [
              "'@Apple will be adding more carrier support to the iPhone 4S (just announced)'"
            ]
          },
          "metadata": {
            "tags": []
          },
          "execution_count": 8
        }
      ]
    },
    {
      "cell_type": "code",
      "metadata": {
        "id": "L4DAwxmnkKFM",
        "colab_type": "code",
        "colab": {
          "base_uri": "https://localhost:8080/",
          "height": 53
        },
        "outputId": "65e48201-8a9a-4d6e-9f71-1bc3a6e7fa62"
      },
      "source": [
        "nltk.download('punkt')\n",
        "stop_words = set(stopwords.words('english')) \n",
        "\n",
        "# tokens of words  \n",
        "\n",
        "word_tokens = word_tokenize(punc_delete(Sentence.lower())) \n",
        "    \n",
        "filtered_sentence = [] \n",
        "  \n",
        "for t in word_tokens: \n",
        "    if t not in stop_words: \n",
        "        filtered_sentence.append(w)"
      ],
      "execution_count": 23,
      "outputs": [
        {
          "output_type": "stream",
          "text": [
            "[nltk_data] Downloading package punkt to /root/nltk_data...\n",
            "[nltk_data]   Package punkt is already up-to-date!\n"
          ],
          "name": "stdout"
        }
      ]
    },
    {
      "cell_type": "code",
      "metadata": {
        "id": "951XjKoBkP5w",
        "colab_type": "code",
        "colab": {}
      },
      "source": [
        "def remove_stop_tokenize(Sentence):\n",
        "  word_tokens = word_tokenize(remove_punctuations_fn(Sentence.lower())) \n",
        "    \n",
        "  filtered_sentence = [] \n",
        "  \n",
        "  for w in word_tokens: \n",
        "      if w not in stop_words: \n",
        "          filtered_sentence.append(w) \n",
        "  return filtered_sentence"
      ],
      "execution_count": 0,
      "outputs": []
    },
    {
      "cell_type": "code",
      "metadata": {
        "id": "ejG7trmQkSLb",
        "colab_type": "code",
        "colab": {
          "base_uri": "https://localhost:8080/",
          "height": 35
        },
        "outputId": "ac706bdb-5e90-45c2-f8d4-08af5e2c839d"
      },
      "source": [
        "remove_stop_tokenize(Sentence)"
      ],
      "execution_count": 25,
      "outputs": [
        {
          "output_type": "execute_result",
          "data": {
            "text/plain": [
              "['apple', 'adding', 'carrier', 'support', 'iphone', '4s', 'announced']"
            ]
          },
          "metadata": {
            "tags": []
          },
          "execution_count": 25
        }
      ]
    },
    {
      "cell_type": "code",
      "metadata": {
        "id": "X-UaaIFzkV5T",
        "colab_type": "code",
        "colab": {}
      },
      "source": [
        "twitter_data['TweetText_clean'] = twitter_data['TweetText'].apply(remove_stop_tokenize)"
      ],
      "execution_count": 0,
      "outputs": []
    },
    {
      "cell_type": "code",
      "metadata": {
        "id": "SLJKWDqxkY1w",
        "colab_type": "code",
        "colab": {}
      },
      "source": [
        "bagofwords = [[i] for i in list(set([y for x in data['TweetText_clean'] for y in x]))]"
      ],
      "execution_count": 0,
      "outputs": []
    },
    {
      "cell_type": "code",
      "metadata": {
        "id": "iCTuQEk_kZjt",
        "colab_type": "code",
        "colab": {
          "base_uri": "https://localhost:8080/",
          "height": 35
        },
        "outputId": "c0b68ae5-86b3-4a65-e2b6-d8911c1703e4"
      },
      "source": [
        "twitter_data['TweetText_clean'][0]"
      ],
      "execution_count": 27,
      "outputs": [
        {
          "output_type": "execute_result",
          "data": {
            "text/plain": [
              "['apple', 'get', 'swype', 'iphone', 'crack', 'iphone']"
            ]
          },
          "metadata": {
            "tags": []
          },
          "execution_count": 27
        }
      ]
    },
    {
      "cell_type": "code",
      "metadata": {
        "id": "nSs83eQokcK9",
        "colab_type": "code",
        "colab": {}
      },
      "source": [
        "model = Word2Vec(bagofwords, min_count=1,size= 50,workers=3, window =3, sg = 1)"
      ],
      "execution_count": 0,
      "outputs": []
    },
    {
      "cell_type": "code",
      "metadata": {
        "id": "y2y41tWqkiRY",
        "colab_type": "code",
        "colab": {
          "base_uri": "https://localhost:8080/",
          "height": 757
        },
        "outputId": "dc375bfc-e15f-45aa-a780-21b067d69f2a"
      },
      "source": [
        "for i in bagofwords[1:10]:\n",
        "  for j in bagofwords[1:10]:\n",
        "    if j>i:\n",
        "      print(i[0],\" & \",j[0],\",Similarity between them : \",model.similarity(i[0],j[0]))\n",
        "    else:\n",
        "      continue"
      ],
      "execution_count": 16,
      "outputs": [
        {
          "output_type": "stream",
          "text": [
            "adcenter  &  marlorific ,Similarity between them :  -0.009872687\n",
            "adcenter  &  azrmusic ,Similarity between them :  0.11022569\n",
            "adcenter  &  httptcoblhhgopo ,Similarity between them :  0.026262814\n",
            "adcenter  &  socialmedia ,Similarity between them :  -0.019513354\n",
            "adcenter  &  rtimbuc ,Similarity between them :  0.14460531\n",
            "adcenter  &  httptconfwcqd9r ,Similarity between them :  0.11883446\n",
            "adcenter  &  httptco928bps4tlehmans ,Similarity between them :  0.009599727\n",
            "adcenter  &  clean ,Similarity between them :  0.21468069\n",
            "marlorific  &  socialmedia ,Similarity between them :  -0.18924111\n",
            "marlorific  &  rtimbuc ,Similarity between them :  -0.03834431\n",
            "azrmusic  &  marlorific ,Similarity between them :  -0.12454136\n",
            "azrmusic  &  httptcoblhhgopo ,Similarity between them :  0.004125923\n",
            "azrmusic  &  socialmedia ,Similarity between them :  -0.15839054\n",
            "azrmusic  &  rtimbuc ,Similarity between them :  -0.084780276\n",
            "azrmusic  &  httptconfwcqd9r ,Similarity between them :  0.12747118\n",
            "azrmusic  &  httptco928bps4tlehmans ,Similarity between them :  0.07036156\n",
            "azrmusic  &  clean ,Similarity between them :  -0.118269265\n",
            "httptcoblhhgopo  &  marlorific ,Similarity between them :  0.2968297\n",
            "httptcoblhhgopo  &  socialmedia ,Similarity between them :  -0.12213438\n",
            "httptcoblhhgopo  &  rtimbuc ,Similarity between them :  0.084810585\n",
            "httptcoblhhgopo  &  httptconfwcqd9r ,Similarity between them :  -0.1918639\n",
            "rtimbuc  &  socialmedia ,Similarity between them :  0.14042553\n",
            "httptconfwcqd9r  &  marlorific ,Similarity between them :  -0.17783517\n",
            "httptconfwcqd9r  &  socialmedia ,Similarity between them :  0.14912628\n",
            "httptconfwcqd9r  &  rtimbuc ,Similarity between them :  -0.08837927\n",
            "httptco928bps4tlehmans  &  marlorific ,Similarity between them :  -0.0020110619\n",
            "httptco928bps4tlehmans  &  httptcoblhhgopo ,Similarity between them :  0.008483308\n",
            "httptco928bps4tlehmans  &  socialmedia ,Similarity between them :  -0.06955836\n",
            "httptco928bps4tlehmans  &  rtimbuc ,Similarity between them :  0.04588442\n",
            "httptco928bps4tlehmans  &  httptconfwcqd9r ,Similarity between them :  0.17261887\n",
            "clean  &  marlorific ,Similarity between them :  0.0546917\n",
            "clean  &  httptcoblhhgopo ,Similarity between them :  0.040625487\n",
            "clean  &  socialmedia ,Similarity between them :  0.058826197\n",
            "clean  &  rtimbuc ,Similarity between them :  0.033734366\n",
            "clean  &  httptconfwcqd9r ,Similarity between them :  0.14084923\n",
            "clean  &  httptco928bps4tlehmans ,Similarity between them :  -0.13328259\n"
          ],
          "name": "stdout"
        },
        {
          "output_type": "stream",
          "text": [
            "/usr/local/lib/python3.6/dist-packages/ipykernel_launcher.py:4: DeprecationWarning: Call to deprecated `similarity` (Method will be removed in 4.0.0, use self.wv.similarity() instead).\n",
            "  after removing the cwd from sys.path.\n",
            "/usr/local/lib/python3.6/dist-packages/gensim/matutils.py:737: FutureWarning: Conversion of the second argument of issubdtype from `int` to `np.signedinteger` is deprecated. In future, it will be treated as `np.int64 == np.dtype(int).type`.\n",
            "  if np.issubdtype(vec.dtype, np.int):\n"
          ],
          "name": "stderr"
        }
      ]
    }
  ]
}